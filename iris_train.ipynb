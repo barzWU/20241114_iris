{
 "cells": [
  {
   "cell_type": "code",
   "execution_count": 10,
   "metadata": {},
   "outputs": [],
   "source": [
    "import numpy as numpy\n",
    "import pandas as pd\n",
    "from sklearn import datasets\n",
    "from sklearn.model_selection import train_test_split\n"
   ]
  },
  {
   "cell_type": "code",
   "execution_count": 11,
   "metadata": {},
   "outputs": [
    {
     "data": {
      "text/plain": [
       "array(['setosa', 'versicolor', 'virginica'], dtype='<U10')"
      ]
     },
     "execution_count": 11,
     "metadata": {},
     "output_type": "execute_result"
    }
   ],
   "source": [
    "iris = datasets.load_iris()\n",
    "X = pd.DataFrame(iris.data)\n",
    "y = iris.target\n",
    "y_name = iris.target_names  # 品種名稱\n",
    "y_name"
   ]
  },
  {
   "cell_type": "code",
   "execution_count": 12,
   "metadata": {},
   "outputs": [],
   "source": [
    "X_train, X_test, y_train, y_test = train_test_split(X, y,\n",
    "                                                    random_state=42,\n",
    "                                                    test_size=0.2,\n",
    "                                                    stratify=y)\n"
   ]
  },
  {
   "cell_type": "code",
   "execution_count": null,
   "metadata": {},
   "outputs": [
    {
     "name": "stdout",
     "output_type": "stream",
     "text": [
      "0.9666666666666667\n"
     ]
    }
   ],
   "source": [
    "#model 1\n",
    "from sklearn.svm import SVC\n",
    "from sklearn.metrics import accuracy_score\n",
    "\n",
    "clf01 = SVC()\n",
    "clf01.fit(X_train, y_train)\n",
    "acc01 = accuracy_score(y_test, clf01.predict(X_test))\n",
    "print(acc01)"
   ]
  },
  {
   "cell_type": "code",
   "execution_count": 15,
   "metadata": {},
   "outputs": [
    {
     "data": {
      "text/plain": [
       "['model/svm.joblib']"
      ]
     },
     "execution_count": 15,
     "metadata": {},
     "output_type": "execute_result"
    }
   ],
   "source": [
    "import joblib\n",
    "\n",
    "joblib.dump(clf01,\"model/svm.joblib\")\n"
   ]
  },
  {
   "cell_type": "code",
   "execution_count": null,
   "metadata": {},
   "outputs": [
    {
     "name": "stdout",
     "output_type": "stream",
     "text": [
      "0.9333333333333333\n"
     ]
    }
   ],
   "source": [
    "#model 2 \n",
    "from sklearn.ensemble import RandomForestClassifier\n",
    "\n",
    "clf02 = RandomForestClassifier(n_estimators=500)\n",
    "clf02 .fit(X_train,y_train)\n",
    "acc02 = accuracy_score(y_test,clf02.predict(X_test))\n",
    "print(acc02)\n"
   ]
  },
  {
   "cell_type": "code",
   "execution_count": 18,
   "metadata": {},
   "outputs": [
    {
     "data": {
      "text/plain": [
       "['model/RF.joblib']"
      ]
     },
     "execution_count": 18,
     "metadata": {},
     "output_type": "execute_result"
    }
   ],
   "source": [
    "joblib.dump(clf02, \"model/RF.joblib\")"
   ]
  },
  {
   "cell_type": "code",
   "execution_count": 19,
   "metadata": {},
   "outputs": [
    {
     "name": "stdout",
     "output_type": "stream",
     "text": [
      "1.0\n"
     ]
    }
   ],
   "source": [
    "#model 3\n",
    "from sklearn.neighbors import KNeighborsClassifier\n",
    "\n",
    "clf03 = KNeighborsClassifier()\n",
    "clf03.fit(X_train, y_train)\n",
    "acc03 = accuracy_score(y_test, clf03.predict(X_test))\n",
    "print(acc03)"
   ]
  },
  {
   "cell_type": "code",
   "execution_count": 20,
   "metadata": {},
   "outputs": [
    {
     "data": {
      "text/plain": [
       "['model/KNN.joblib']"
      ]
     },
     "execution_count": 20,
     "metadata": {},
     "output_type": "execute_result"
    }
   ],
   "source": [
    "joblib.dump(clf03, \"model/KNN.joblib\")"
   ]
  },
  {
   "cell_type": "code",
   "execution_count": 21,
   "metadata": {},
   "outputs": [
    {
     "name": "stdout",
     "output_type": "stream",
     "text": [
      "0.9666666666666667\n"
     ]
    }
   ],
   "source": [
    "\n",
    "#model 4 \n",
    "from sklearn.linear_model import LogisticRegression\n",
    "\n",
    "clf04 = LogisticRegression()\n",
    "clf04.fit(X_train, y_train)\n",
    "acc04 = accuracy_score(y_test, clf04.predict(X_test))\n",
    "print(acc04)"
   ]
  },
  {
   "cell_type": "code",
   "execution_count": 22,
   "metadata": {},
   "outputs": [
    {
     "data": {
      "text/plain": [
       "['model/LR.joblib']"
      ]
     },
     "execution_count": 22,
     "metadata": {},
     "output_type": "execute_result"
    }
   ],
   "source": [
    "joblib.dump(clf04, \"model/LR.joblib\")"
   ]
  },
  {
   "cell_type": "code",
   "execution_count": null,
   "metadata": {},
   "outputs": [
    {
     "name": "stdout",
     "output_type": "stream",
     "text": [
      "Collecting matplotlib\n",
      "  Downloading matplotlib-3.9.2-cp312-cp312-win_amd64.whl.metadata (11 kB)\n",
      "Collecting contourpy>=1.0.1 (from matplotlib)\n",
      "  Downloading contourpy-1.3.1-cp312-cp312-win_amd64.whl.metadata (5.4 kB)\n",
      "Collecting cycler>=0.10 (from matplotlib)\n",
      "  Downloading cycler-0.12.1-py3-none-any.whl.metadata (3.8 kB)\n",
      "Collecting fonttools>=4.22.0 (from matplotlib)\n",
      "  Downloading fonttools-4.54.1-cp312-cp312-win_amd64.whl.metadata (167 kB)\n",
      "     ---------------------------------------- 0.0/167.0 kB ? eta -:--:--\n",
      "     -- ------------------------------------- 10.2/167.0 kB ? eta -:--:--\n",
      "     -- ------------------------------------- 10.2/167.0 kB ? eta -:--:--\n",
      "     ------------- ----------------------- 61.4/167.0 kB 544.7 kB/s eta 0:00:01\n",
      "     ------------------------ ----------- 112.6/167.0 kB 819.2 kB/s eta 0:00:01\n",
      "     ------------------------------------ 167.0/167.0 kB 911.6 kB/s eta 0:00:00\n",
      "Collecting kiwisolver>=1.3.1 (from matplotlib)\n",
      "  Downloading kiwisolver-1.4.7-cp312-cp312-win_amd64.whl.metadata (6.4 kB)\n",
      "Requirement already satisfied: numpy>=1.23 in d:\\gb\\projecttest\\.venv\\lib\\site-packages (from matplotlib) (2.1.3)\n",
      "Requirement already satisfied: packaging>=20.0 in d:\\gb\\projecttest\\.venv\\lib\\site-packages (from matplotlib) (24.2)\n",
      "Requirement already satisfied: pillow>=8 in d:\\gb\\projecttest\\.venv\\lib\\site-packages (from matplotlib) (11.0.0)\n",
      "Collecting pyparsing>=2.3.1 (from matplotlib)\n",
      "  Downloading pyparsing-3.2.0-py3-none-any.whl.metadata (5.0 kB)\n",
      "Requirement already satisfied: python-dateutil>=2.7 in d:\\gb\\projecttest\\.venv\\lib\\site-packages (from matplotlib) (2.9.0.post0)\n",
      "Requirement already satisfied: six>=1.5 in d:\\gb\\projecttest\\.venv\\lib\\site-packages (from python-dateutil>=2.7->matplotlib) (1.16.0)\n",
      "Downloading matplotlib-3.9.2-cp312-cp312-win_amd64.whl (7.8 MB)\n",
      "   ---------------------------------------- 0.0/7.8 MB ? eta -:--:--\n",
      "    --------------------------------------- 0.1/7.8 MB ? eta -:--:--\n",
      "    --------------------------------------- 0.2/7.8 MB 3.5 MB/s eta 0:00:03\n",
      "    --------------------------------------- 0.2/7.8 MB 1.3 MB/s eta 0:00:06\n",
      "    --------------------------------------- 0.2/7.8 MB 1.3 MB/s eta 0:00:06\n",
      "    --------------------------------------- 0.2/7.8 MB 1.3 MB/s eta 0:00:06\n",
      "   - -------------------------------------- 0.3/7.8 MB 1.2 MB/s eta 0:00:07\n",
      "   - -------------------------------------- 0.3/7.8 MB 1.1 MB/s eta 0:00:07\n",
      "   -- ------------------------------------- 0.5/7.8 MB 1.3 MB/s eta 0:00:06\n",
      "   --- ------------------------------------ 0.6/7.8 MB 1.6 MB/s eta 0:00:05\n",
      "   ---- ----------------------------------- 0.8/7.8 MB 1.8 MB/s eta 0:00:04\n",
      "   ----- ---------------------------------- 1.1/7.8 MB 2.1 MB/s eta 0:00:04\n",
      "   ------ --------------------------------- 1.3/7.8 MB 2.3 MB/s eta 0:00:03\n",
      "   ------- -------------------------------- 1.5/7.8 MB 2.5 MB/s eta 0:00:03\n",
      "   -------- ------------------------------- 1.7/7.8 MB 2.7 MB/s eta 0:00:03\n",
      "   ---------- ----------------------------- 2.0/7.8 MB 2.9 MB/s eta 0:00:03\n",
      "   ----------- ---------------------------- 2.2/7.8 MB 3.0 MB/s eta 0:00:02\n",
      "   ------------ --------------------------- 2.5/7.8 MB 3.2 MB/s eta 0:00:02\n",
      "   -------------- ------------------------- 2.7/7.8 MB 3.3 MB/s eta 0:00:02\n",
      "   --------------- ------------------------ 3.0/7.8 MB 3.4 MB/s eta 0:00:02\n",
      "   ---------------- ----------------------- 3.3/7.8 MB 3.6 MB/s eta 0:00:02\n",
      "   ------------------ --------------------- 3.6/7.8 MB 3.7 MB/s eta 0:00:02\n",
      "   ------------------- -------------------- 3.9/7.8 MB 3.8 MB/s eta 0:00:02\n",
      "   --------------------- ------------------ 4.2/7.8 MB 3.9 MB/s eta 0:00:01\n",
      "   ----------------------- ---------------- 4.5/7.8 MB 4.1 MB/s eta 0:00:01\n",
      "   ------------------------ --------------- 4.8/7.8 MB 4.1 MB/s eta 0:00:01\n",
      "   ------------------------- -------------- 5.1/7.8 MB 4.2 MB/s eta 0:00:01\n",
      "   --------------------------- ------------ 5.5/7.8 MB 4.4 MB/s eta 0:00:01\n",
      "   ---------------------------- ----------- 5.7/7.8 MB 4.4 MB/s eta 0:00:01\n",
      "   ------------------------------- -------- 6.1/7.8 MB 4.6 MB/s eta 0:00:01\n",
      "   -------------------------------- ------- 6.4/7.8 MB 4.6 MB/s eta 0:00:01\n",
      "   ---------------------------------- ----- 6.8/7.8 MB 4.7 MB/s eta 0:00:01\n",
      "   ------------------------------------ --- 7.2/7.8 MB 4.9 MB/s eta 0:00:01\n",
      "   -------------------------------------- - 7.6/7.8 MB 5.0 MB/s eta 0:00:01\n",
      "   ---------------------------------------  7.8/7.8 MB 5.1 MB/s eta 0:00:01\n",
      "   ---------------------------------------- 7.8/7.8 MB 5.0 MB/s eta 0:00:00\n",
      "Downloading contourpy-1.3.1-cp312-cp312-win_amd64.whl (220 kB)\n",
      "   ---------------------------------------- 0.0/221.0 kB ? eta -:--:--\n",
      "   ---------------------------------------- 221.0/221.0 kB 6.8 MB/s eta 0:00:00\n",
      "Downloading cycler-0.12.1-py3-none-any.whl (8.3 kB)\n",
      "Downloading fonttools-4.54.1-cp312-cp312-win_amd64.whl (2.2 MB)\n",
      "   ---------------------------------------- 0.0/2.2 MB ? eta -:--:--\n",
      "   ------ --------------------------------- 0.3/2.2 MB 10.9 MB/s eta 0:00:01\n",
      "   ----------- ---------------------------- 0.6/2.2 MB 8.1 MB/s eta 0:00:01\n",
      "   ---------------- ----------------------- 0.9/2.2 MB 7.4 MB/s eta 0:00:01\n",
      "   ------------------------ --------------- 1.4/2.2 MB 7.9 MB/s eta 0:00:01\n",
      "   -------------------------------- ------- 1.8/2.2 MB 8.0 MB/s eta 0:00:01\n",
      "   ------------------------------------- -- 2.1/2.2 MB 7.7 MB/s eta 0:00:01\n",
      "   ---------------------------------------- 2.2/2.2 MB 7.0 MB/s eta 0:00:00\n",
      "Downloading kiwisolver-1.4.7-cp312-cp312-win_amd64.whl (55 kB)\n",
      "   ---------------------------------------- 0.0/55.9 kB ? eta -:--:--\n",
      "   ---------------------------------------- 55.9/55.9 kB 3.0 MB/s eta 0:00:00\n",
      "Downloading pyparsing-3.2.0-py3-none-any.whl (106 kB)\n",
      "   ---------------------------------------- 0.0/106.9 kB ? eta -:--:--\n",
      "   ---------------------------------------- 106.9/106.9 kB 6.0 MB/s eta 0:00:00\n",
      "Installing collected packages: pyparsing, kiwisolver, fonttools, cycler, contourpy, matplotlib\n",
      "Successfully installed contourpy-1.3.1 cycler-0.12.1 fonttools-4.54.1 kiwisolver-1.4.7 matplotlib-3.9.2 pyparsing-3.2.0\n",
      "Note: you may need to restart the kernel to use updated packages.\n"
     ]
    }
   ],
   "source": [
    "#pip install matplotlib"
   ]
  }
 ],
 "metadata": {
  "kernelspec": {
   "display_name": ".venv",
   "language": "python",
   "name": "python3"
  },
  "language_info": {
   "codemirror_mode": {
    "name": "ipython",
    "version": 3
   },
   "file_extension": ".py",
   "mimetype": "text/x-python",
   "name": "python",
   "nbconvert_exporter": "python",
   "pygments_lexer": "ipython3",
   "version": "3.12.3"
  }
 },
 "nbformat": 4,
 "nbformat_minor": 2
}
